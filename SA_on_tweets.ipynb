{
 "cells": [
  {
   "cell_type": "markdown",
   "metadata": {},
   "source": [
    "# Sentiment Analysis of Trevor Noah's Tweets\n",
    "\n",
    "In this notebook, I analyzed my favorite comedian, Trevor Noah's tweets with TextBlob's sentiment analysis tools. \n",
    "\n",
    "This notebook is based on [a tutorial made by Rodolfo Ferro](https://dev.to/rodolfoferro/sentiment-analysis-on-trumpss-tweets-using-python-). "
   ]
  },
  {
   "cell_type": "code",
   "execution_count": 1,
   "metadata": {},
   "outputs": [],
   "source": [
    "# General:\n",
    "import tweepy           # To consume Twitter's API\n",
    "import pandas as pd     # To handle data\n",
    "import numpy as np      # For number computing\n",
    "\n",
    "# For plotting and visualization:\n",
    "from IPython.display import display\n",
    "import matplotlib.pyplot as plt\n",
    "import seaborn as sns\n",
    "%matplotlib inline"
   ]
  },
  {
   "cell_type": "code",
   "execution_count": 2,
   "metadata": {},
   "outputs": [],
   "source": [
    "# We import our access keys:\n",
    "from credentials import *    # This will allow us to use the keys as variables\n",
    "\n",
    "# API's setup:\n",
    "def twitter_setup():\n",
    "    \"\"\"\n",
    "    Utility function to setup the Twitter's API\n",
    "    with our access keys provided.\n",
    "    \"\"\"\n",
    "    # Authentication and access using keys:\n",
    "    auth = tweepy.OAuthHandler(CONSUMER_KEY, CONSUMER_SECRET)\n",
    "    auth.set_access_token(ACCESS_TOKEN, ACCESS_SECRET)\n",
    "\n",
    "    # Return API with authentication:\n",
    "    api = tweepy.API(auth)\n",
    "    return api\n"
   ]
  },
  {
   "cell_type": "code",
   "execution_count": 3,
   "metadata": {},
   "outputs": [
    {
     "name": "stdout",
     "output_type": "stream",
     "text": [
      "Number of tweets extracted: 199.\n",
      "\n",
      "5 recent tweets:\n",
      "\n",
      "Tampa! Such an amazing crowd. Thank you! 🙏🏾 and to the two lovely ladies in the 2nd pic... you are truly the best! 😀 https://t.co/vvfkrOcdNk\n",
      "\n",
      "Raleigh! If you and your friend are still debating over who I pointed to at the end, here I’ll settle it... It was… https://t.co/wE1RFGG3OV\n",
      "\n",
      "What a great start to the tour! Thank you Norfolk, VA. You were electric!⚡️See you tomorrow Raleigh, NC… https://t.co/kNgzaZUOWD\n",
      "\n",
      "And so it begins... My new #LoudAndClearTour kicks off tonight in Norfolk, VA! Now use two of your strongest finger… https://t.co/LkKOy5dP3I\n",
      "\n",
      "RT @TheDailyShow: #10YearChallenge https://t.co/MYltmIgkE0\n",
      "\n"
     ]
    }
   ],
   "source": [
    "# We create an extractor object:\n",
    "extractor = twitter_setup()\n",
    "\n",
    "# We create a tweet list as follows:\n",
    "tweets = extractor.user_timeline(screen_name=\"Trevornoah\",count=200)\n",
    "print(\"Number of tweets extracted: {}.\\n\".format(len(tweets)))\n",
    "\n",
    "# We print the most recent 5 tweets:\n",
    "print(\"5 recent tweets:\\n\")\n",
    "for tweet in tweets[:5]:\n",
    "    print(tweet.text)\n",
    "    print()"
   ]
  },
  {
   "cell_type": "code",
   "execution_count": 4,
   "metadata": {},
   "outputs": [
    {
     "data": {
      "text/html": [
       "<div>\n",
       "<style scoped>\n",
       "    .dataframe tbody tr th:only-of-type {\n",
       "        vertical-align: middle;\n",
       "    }\n",
       "\n",
       "    .dataframe tbody tr th {\n",
       "        vertical-align: top;\n",
       "    }\n",
       "\n",
       "    .dataframe thead th {\n",
       "        text-align: right;\n",
       "    }\n",
       "</style>\n",
       "<table border=\"1\" class=\"dataframe\">\n",
       "  <thead>\n",
       "    <tr style=\"text-align: right;\">\n",
       "      <th></th>\n",
       "      <th>Tweets</th>\n",
       "    </tr>\n",
       "  </thead>\n",
       "  <tbody>\n",
       "    <tr>\n",
       "      <th>0</th>\n",
       "      <td>Tampa! Such an amazing crowd. Thank you! 🙏🏾 an...</td>\n",
       "    </tr>\n",
       "    <tr>\n",
       "      <th>1</th>\n",
       "      <td>Raleigh! If you and your friend are still deba...</td>\n",
       "    </tr>\n",
       "    <tr>\n",
       "      <th>2</th>\n",
       "      <td>What a great start to the tour! Thank you Norf...</td>\n",
       "    </tr>\n",
       "    <tr>\n",
       "      <th>3</th>\n",
       "      <td>And so it begins... My new #LoudAndClearTour k...</td>\n",
       "    </tr>\n",
       "    <tr>\n",
       "      <th>4</th>\n",
       "      <td>RT @TheDailyShow: #10YearChallenge https://t.c...</td>\n",
       "    </tr>\n",
       "    <tr>\n",
       "      <th>5</th>\n",
       "      <td>Last year, Shelley was our @omaze winner and j...</td>\n",
       "    </tr>\n",
       "    <tr>\n",
       "      <th>6</th>\n",
       "      <td>RT @TheDailyShow: The Daily Show &amp;amp; @DrunkH...</td>\n",
       "    </tr>\n",
       "    <tr>\n",
       "      <th>7</th>\n",
       "      <td>Toronto! Thank you for 4 incredible cold-out 🥶...</td>\n",
       "    </tr>\n",
       "    <tr>\n",
       "      <th>8</th>\n",
       "      <td>This is amazing @paulpogba 🙌🏽🙌🏽🙌🏽🙌🏽 https://t....</td>\n",
       "    </tr>\n",
       "    <tr>\n",
       "      <th>9</th>\n",
       "      <td>RT @TheDailyShow: Oh man, once Trump gets his ...</td>\n",
       "    </tr>\n",
       "  </tbody>\n",
       "</table>\n",
       "</div>"
      ],
      "text/plain": [
       "                                              Tweets\n",
       "0  Tampa! Such an amazing crowd. Thank you! 🙏🏾 an...\n",
       "1  Raleigh! If you and your friend are still deba...\n",
       "2  What a great start to the tour! Thank you Norf...\n",
       "3  And so it begins... My new #LoudAndClearTour k...\n",
       "4  RT @TheDailyShow: #10YearChallenge https://t.c...\n",
       "5  Last year, Shelley was our @omaze winner and j...\n",
       "6  RT @TheDailyShow: The Daily Show &amp; @DrunkH...\n",
       "7  Toronto! Thank you for 4 incredible cold-out 🥶...\n",
       "8  This is amazing @paulpogba 🙌🏽🙌🏽🙌🏽🙌🏽 https://t....\n",
       "9  RT @TheDailyShow: Oh man, once Trump gets his ..."
      ]
     },
     "metadata": {},
     "output_type": "display_data"
    }
   ],
   "source": [
    "# We create a pandas dataframe as follows:\n",
    "data = pd.DataFrame(data=[tweet.text for tweet in tweets], columns=[\"Tweets\"])\n",
    "\n",
    "# We display the first 10 elements of the dataframe:\n",
    "display(data.head(10))"
   ]
  },
  {
   "cell_type": "code",
   "execution_count": 5,
   "metadata": {},
   "outputs": [
    {
     "name": "stdout",
     "output_type": "stream",
     "text": [
      "['__class__', '__delattr__', '__dict__', '__dir__', '__doc__', '__eq__', '__format__', '__ge__', '__getattribute__', '__getstate__', '__gt__', '__hash__', '__init__', '__init_subclass__', '__le__', '__lt__', '__module__', '__ne__', '__new__', '__reduce__', '__reduce_ex__', '__repr__', '__setattr__', '__sizeof__', '__str__', '__subclasshook__', '__weakref__', '_api', '_json', 'author', 'contributors', 'coordinates', 'created_at', 'destroy', 'entities', 'extended_entities', 'favorite', 'favorite_count', 'favorited', 'geo', 'id', 'id_str', 'in_reply_to_screen_name', 'in_reply_to_status_id', 'in_reply_to_status_id_str', 'in_reply_to_user_id', 'in_reply_to_user_id_str', 'is_quote_status', 'lang', 'parse', 'parse_list', 'place', 'possibly_sensitive', 'retweet', 'retweet_count', 'retweeted', 'retweets', 'source', 'source_url', 'text', 'truncated', 'user'] \n",
      "\n",
      "Tampa! Such an amazing crowd. Thank you! 🙏🏾 and to the two lovely ladies in the 2nd pic... you are truly the best! 😀 https://t.co/vvfkrOcdNk \n",
      "\n"
     ]
    }
   ],
   "source": [
    "# Internal methods of a single tweet object:\n",
    "print(dir(tweets[0]), \"\\n\")\n",
    "\n",
    "print(tweets[0].text, \"\\n\")"
   ]
  },
  {
   "cell_type": "code",
   "execution_count": 6,
   "metadata": {},
   "outputs": [
    {
     "name": "stdout",
     "output_type": "stream",
     "text": [
      "id:  1087236108398878720\n",
      "created at:  2019-01-21 06:31:02\n",
      "source:  Twitter for iPhone\n",
      "favorite count:  7311\n",
      "retweet count:  440\n",
      "geo:  None\n",
      "coordinates:  None\n",
      "entities:  {'hashtags': [], 'symbols': [], 'user_mentions': [], 'urls': [], 'media': [{'id': 1087236092800061440, 'id_str': '1087236092800061440', 'indices': [117, 140], 'media_url': 'http://pbs.twimg.com/media/Dxajd0pU0AAnjT7.jpg', 'media_url_https': 'https://pbs.twimg.com/media/Dxajd0pU0AAnjT7.jpg', 'url': 'https://t.co/vvfkrOcdNk', 'display_url': 'pic.twitter.com/vvfkrOcdNk', 'expanded_url': 'https://twitter.com/Trevornoah/status/1087236108398878720/photo/1', 'type': 'photo', 'sizes': {'thumb': {'w': 150, 'h': 150, 'resize': 'crop'}, 'large': {'w': 1954, 'h': 2048, 'resize': 'fit'}, 'small': {'w': 649, 'h': 680, 'resize': 'fit'}, 'medium': {'w': 1145, 'h': 1200, 'resize': 'fit'}}}]}\n"
     ]
    }
   ],
   "source": [
    "# We print info from the first tweet:\n",
    "print(\"id: \", tweets[0].id)\n",
    "print(\"created at: \", tweets[0].created_at)\n",
    "print(\"source: \", tweets[0].source)\n",
    "print(\"favorite count: \", tweets[0].favorite_count)\n",
    "print(\"retweet count: \", tweets[0].retweet_count)\n",
    "print(\"geo: \", tweets[0].geo)\n",
    "print(\"coordinates: \", tweets[0].coordinates)\n",
    "print(\"entities: \", tweets[0].entities)"
   ]
  },
  {
   "cell_type": "code",
   "execution_count": 7,
   "metadata": {},
   "outputs": [],
   "source": [
    "# We add relevant data:\n",
    "data[\"length\"] = np.array([len(tweet.text) for tweet in tweets])\n",
    "data[\"ID\"] = np.array([tweet.id for tweet in tweets])\n",
    "data[\"Date\"] = np.array([tweet.created_at for tweet in tweets])\n",
    "data[\"Source\"] = np.array([tweet.source for tweet in tweets])\n",
    "data[\"Likes\"] = np.array([tweet.favorite_count for tweet in tweets])\n",
    "data[\"RTs\"] = np.array([tweet.retweet_count for tweet in tweets])"
   ]
  },
  {
   "cell_type": "code",
   "execution_count": 8,
   "metadata": {},
   "outputs": [
    {
     "data": {
      "text/html": [
       "<div>\n",
       "<style scoped>\n",
       "    .dataframe tbody tr th:only-of-type {\n",
       "        vertical-align: middle;\n",
       "    }\n",
       "\n",
       "    .dataframe tbody tr th {\n",
       "        vertical-align: top;\n",
       "    }\n",
       "\n",
       "    .dataframe thead th {\n",
       "        text-align: right;\n",
       "    }\n",
       "</style>\n",
       "<table border=\"1\" class=\"dataframe\">\n",
       "  <thead>\n",
       "    <tr style=\"text-align: right;\">\n",
       "      <th></th>\n",
       "      <th>Tweets</th>\n",
       "      <th>length</th>\n",
       "      <th>ID</th>\n",
       "      <th>Date</th>\n",
       "      <th>Source</th>\n",
       "      <th>Likes</th>\n",
       "      <th>RTs</th>\n",
       "    </tr>\n",
       "  </thead>\n",
       "  <tbody>\n",
       "    <tr>\n",
       "      <th>0</th>\n",
       "      <td>Tampa! Such an amazing crowd. Thank you! 🙏🏾 an...</td>\n",
       "      <td>140</td>\n",
       "      <td>1087236108398878720</td>\n",
       "      <td>2019-01-21 06:31:02</td>\n",
       "      <td>Twitter for iPhone</td>\n",
       "      <td>7311</td>\n",
       "      <td>440</td>\n",
       "    </tr>\n",
       "    <tr>\n",
       "      <th>1</th>\n",
       "      <td>Raleigh! If you and your friend are still deba...</td>\n",
       "      <td>139</td>\n",
       "      <td>1086856503108272129</td>\n",
       "      <td>2019-01-20 05:22:37</td>\n",
       "      <td>Twitter for iPhone</td>\n",
       "      <td>3334</td>\n",
       "      <td>322</td>\n",
       "    </tr>\n",
       "    <tr>\n",
       "      <th>2</th>\n",
       "      <td>What a great start to the tour! Thank you Norf...</td>\n",
       "      <td>128</td>\n",
       "      <td>1086464896999571456</td>\n",
       "      <td>2019-01-19 03:26:31</td>\n",
       "      <td>Twitter for iPhone</td>\n",
       "      <td>1440</td>\n",
       "      <td>93</td>\n",
       "    </tr>\n",
       "    <tr>\n",
       "      <th>3</th>\n",
       "      <td>And so it begins... My new #LoudAndClearTour k...</td>\n",
       "      <td>140</td>\n",
       "      <td>1086280570253033472</td>\n",
       "      <td>2019-01-18 15:14:04</td>\n",
       "      <td>Twitter for iPhone</td>\n",
       "      <td>2812</td>\n",
       "      <td>334</td>\n",
       "    </tr>\n",
       "    <tr>\n",
       "      <th>4</th>\n",
       "      <td>RT @TheDailyShow: #10YearChallenge https://t.c...</td>\n",
       "      <td>58</td>\n",
       "      <td>1085644939831042048</td>\n",
       "      <td>2019-01-16 21:08:18</td>\n",
       "      <td>Twitter for iPhone</td>\n",
       "      <td>0</td>\n",
       "      <td>967</td>\n",
       "    </tr>\n",
       "    <tr>\n",
       "      <th>5</th>\n",
       "      <td>Last year, Shelley was our @omaze winner and j...</td>\n",
       "      <td>140</td>\n",
       "      <td>1085553520026234881</td>\n",
       "      <td>2019-01-16 15:05:02</td>\n",
       "      <td>Twitter Web Client</td>\n",
       "      <td>613</td>\n",
       "      <td>91</td>\n",
       "    </tr>\n",
       "    <tr>\n",
       "      <th>6</th>\n",
       "      <td>RT @TheDailyShow: The Daily Show &amp;amp; @DrunkH...</td>\n",
       "      <td>99</td>\n",
       "      <td>1085002294066851841</td>\n",
       "      <td>2019-01-15 02:34:39</td>\n",
       "      <td>Twitter for iPhone</td>\n",
       "      <td>0</td>\n",
       "      <td>1641</td>\n",
       "    </tr>\n",
       "    <tr>\n",
       "      <th>7</th>\n",
       "      <td>Toronto! Thank you for 4 incredible cold-out 🥶...</td>\n",
       "      <td>141</td>\n",
       "      <td>1084522505732268032</td>\n",
       "      <td>2019-01-13 18:48:09</td>\n",
       "      <td>Twitter for iPhone</td>\n",
       "      <td>3131</td>\n",
       "      <td>251</td>\n",
       "    </tr>\n",
       "    <tr>\n",
       "      <th>8</th>\n",
       "      <td>This is amazing @paulpogba 🙌🏽🙌🏽🙌🏽🙌🏽 https://t....</td>\n",
       "      <td>59</td>\n",
       "      <td>1083235414549385228</td>\n",
       "      <td>2019-01-10 05:33:43</td>\n",
       "      <td>Twitter for iPhone</td>\n",
       "      <td>13637</td>\n",
       "      <td>2537</td>\n",
       "    </tr>\n",
       "    <tr>\n",
       "      <th>9</th>\n",
       "      <td>RT @TheDailyShow: Oh man, once Trump gets his ...</td>\n",
       "      <td>134</td>\n",
       "      <td>1083171188967387136</td>\n",
       "      <td>2019-01-10 01:18:30</td>\n",
       "      <td>Twitter for iPhone</td>\n",
       "      <td>0</td>\n",
       "      <td>166815</td>\n",
       "    </tr>\n",
       "  </tbody>\n",
       "</table>\n",
       "</div>"
      ],
      "text/plain": [
       "                                              Tweets  length  \\\n",
       "0  Tampa! Such an amazing crowd. Thank you! 🙏🏾 an...     140   \n",
       "1  Raleigh! If you and your friend are still deba...     139   \n",
       "2  What a great start to the tour! Thank you Norf...     128   \n",
       "3  And so it begins... My new #LoudAndClearTour k...     140   \n",
       "4  RT @TheDailyShow: #10YearChallenge https://t.c...      58   \n",
       "5  Last year, Shelley was our @omaze winner and j...     140   \n",
       "6  RT @TheDailyShow: The Daily Show &amp; @DrunkH...      99   \n",
       "7  Toronto! Thank you for 4 incredible cold-out 🥶...     141   \n",
       "8  This is amazing @paulpogba 🙌🏽🙌🏽🙌🏽🙌🏽 https://t....      59   \n",
       "9  RT @TheDailyShow: Oh man, once Trump gets his ...     134   \n",
       "\n",
       "                    ID                Date              Source  Likes     RTs  \n",
       "0  1087236108398878720 2019-01-21 06:31:02  Twitter for iPhone   7311     440  \n",
       "1  1086856503108272129 2019-01-20 05:22:37  Twitter for iPhone   3334     322  \n",
       "2  1086464896999571456 2019-01-19 03:26:31  Twitter for iPhone   1440      93  \n",
       "3  1086280570253033472 2019-01-18 15:14:04  Twitter for iPhone   2812     334  \n",
       "4  1085644939831042048 2019-01-16 21:08:18  Twitter for iPhone      0     967  \n",
       "5  1085553520026234881 2019-01-16 15:05:02  Twitter Web Client    613      91  \n",
       "6  1085002294066851841 2019-01-15 02:34:39  Twitter for iPhone      0    1641  \n",
       "7  1084522505732268032 2019-01-13 18:48:09  Twitter for iPhone   3131     251  \n",
       "8  1083235414549385228 2019-01-10 05:33:43  Twitter for iPhone  13637    2537  \n",
       "9  1083171188967387136 2019-01-10 01:18:30  Twitter for iPhone      0  166815  "
      ]
     },
     "execution_count": 8,
     "metadata": {},
     "output_type": "execute_result"
    }
   ],
   "source": [
    "# Display of first 10 elements from dataframe:\n",
    "data.head(10)"
   ]
  },
  {
   "cell_type": "code",
   "execution_count": 9,
   "metadata": {},
   "outputs": [
    {
     "name": "stdout",
     "output_type": "stream",
     "text": [
      "The average of tweets' length: 102.34170854271356\n"
     ]
    }
   ],
   "source": [
    "# We extract the mean of lenghts:\n",
    "mean = np.mean(data['length'])\n",
    "\n",
    "print(\"The average of tweets' length: {}\".format(mean))"
   ]
  },
  {
   "cell_type": "code",
   "execution_count": 10,
   "metadata": {},
   "outputs": [
    {
     "name": "stdout",
     "output_type": "stream",
     "text": [
      "The tweet with more like is: \n",
      "Happy Father's Day to my mom and all the single moms out there, who for whatever reason had to hold it down twice a… https://t.co/jgupynkPWK\n",
      "Number of likes: 70414\n",
      "140 characters. \n",
      "\n",
      "The tweet with more retweet is: \n",
      "RT @junathaenw22: Y’all please help me make little man go viral! https://t.co/5Qkcj72C5E\n",
      "Number of retweets: 329218\n",
      "88 characters. \n",
      "\n"
     ]
    }
   ],
   "source": [
    "# We extract the tweet with more FAVs and more RTs:\n",
    "fav_max = np.max(data[\"Likes\"])\n",
    "rt_max = np.max(data[\"RTs\"])\n",
    "\n",
    "fav = data[data.Likes == fav_max].index[0]\n",
    "rt = data[data.RTs == rt_max].index[0]\n",
    "\n",
    "# Max FAVs:\n",
    "print(\"The tweet with more like is: \\n{}\".format(data[\"Tweets\"][fav]))\n",
    "print(\"Number of likes: {}\".format(fav_max))\n",
    "print(\"{} characters. \\n\".format(data[\"length\"][fav]))\n",
    "\n",
    "# Max RTs:\n",
    "print(\"The tweet with more retweet is: \\n{}\".format(data[\"Tweets\"][rt]))\n",
    "print(\"Number of retweets: {}\".format(rt_max))\n",
    "print(\"{} characters. \\n\".format(data[\"length\"][rt]))"
   ]
  },
  {
   "cell_type": "code",
   "execution_count": 11,
   "metadata": {},
   "outputs": [],
   "source": [
    "# We create time series for data:\n",
    "\n",
    "tlen = pd.Series(data=data[\"length\"].values, index=data[\"Date\"])\n",
    "tfav = pd.Series(data=data[\"Likes\"].values, index=data[\"Date\"])\n",
    "tret = pd.Series(data=data[\"RTs\"].values, index=data[\"Date\"])"
   ]
  },
  {
   "cell_type": "code",
   "execution_count": 12,
   "metadata": {},
   "outputs": [
    {
     "data": {
      "text/plain": [
       "<matplotlib.axes._subplots.AxesSubplot at 0x1a1b6aed68>"
      ]
     },
     "execution_count": 12,
     "metadata": {},
     "output_type": "execute_result"
    },
    {
     "data": {
      "image/png": "[encoded data removed]",
      "text/plain": [
       "<Figure size 1152x288 with 1 Axes>"
      ]
     },
     "metadata": {
      "needs_background": "light"
     },
     "output_type": "display_data"
    }
   ],
   "source": [
    "# Lenghts along time:\n",
    "tlen.plot(figsize=(16,4), color=\"r\")"
   ]
  },
  {
   "cell_type": "code",
   "execution_count": 13,
   "metadata": {},
   "outputs": [
    {
     "data": {
      "text/plain": [
       "<matplotlib.axes._subplots.AxesSubplot at 0x1a1c697a90>"
      ]
     },
     "execution_count": 13,
     "metadata": {},
     "output_type": "execute_result"
    },
    {
     "data": {
      "image/png": "[encoded data removed]",
      "text/plain": [
       "<Figure size 1152x288 with 1 Axes>"
      ]
     },
     "metadata": {
      "needs_background": "light"
     },
     "output_type": "display_data"
    }
   ],
   "source": [
    "# Likes vs retweets visualization:\n",
    "tfav.plot(figsize=(16,4), label=\"Likes\", legend=True)\n",
    "tret.plot(figsize=(16,4), label=\"Retweets\", legend=True)"
   ]
  },
  {
   "cell_type": "code",
   "execution_count": 14,
   "metadata": {},
   "outputs": [
    {
     "name": "stdout",
     "output_type": "stream",
     "text": [
      "Creation of content sources:\n",
      "* Twitter for iPhone\n",
      "* Twitter Web Client\n",
      "* TweetDeck\n",
      "* Twitter Web App\n"
     ]
    }
   ],
   "source": [
    "# We obtain all possible sources:\n",
    "sources = []\n",
    "for source in data[\"Source\"]:\n",
    "    if source not in sources:\n",
    "        sources.append(source)\n",
    "\n",
    "# We print sources list:\n",
    "print(\"Creation of content sources:\")\n",
    "for source in sources:\n",
    "    print(\"* {}\".format(source))"
   ]
  },
  {
   "cell_type": "code",
   "execution_count": 15,
   "metadata": {},
   "outputs": [
    {
     "data": {
      "text/plain": [
       "<matplotlib.axes._subplots.AxesSubplot at 0x1a1c858828>"
      ]
     },
     "execution_count": 15,
     "metadata": {},
     "output_type": "execute_result"
    },
    {
     "data": {
      "image/png": "[encoded data removed]",
      "text/plain": [
       "<Figure size 432x432 with 1 Axes>"
      ]
     },
     "metadata": {},
     "output_type": "display_data"
    }
   ],
   "source": [
    "# We create a numpy vector mapped to labels:\n",
    "percent = np.zeros(len(sources))\n",
    "\n",
    "for source in data[\"Source\"]:\n",
    "    for index in range(len(sources)):\n",
    "        if source == sources[index]:\n",
    "            percent[index] += 1\n",
    "            pass\n",
    "        \n",
    "percent /= 100\n",
    "\n",
    "# Pie chart:\n",
    "pie_chart = pd.Series(data = percent, index=sources, name=\"Sources\")\n",
    "pie_chart.plot.pie(fontsize=13, autopct=\"%.2f\", figsize=(6,6))"
   ]
  },
  {
   "cell_type": "code",
   "execution_count": 16,
   "metadata": {},
   "outputs": [],
   "source": [
    "from textblob import TextBlob\n",
    "import re\n",
    "\n",
    "def clean_tweet(tweet):\n",
    "    '''\n",
    "    Utility function to clean the text in a tweet by removing\n",
    "    links and special characters using regex.\n",
    "    '''\n",
    "    return ' '.join(re.sub(\"(@[A-Za-z0-9]+)|([^0-9A-Za-z \\t])|(\\w+:\\/\\/\\S+)\", \" \", tweet).split())\n",
    "\n",
    "def analize_sentiment(tweet):\n",
    "    '''\n",
    "    Utility function to classify the polarity of a tweet\n",
    "    using textblob.\n",
    "    '''\n",
    "    analysis = TextBlob(clean_tweet(tweet))\n",
    "    if analysis.sentiment.polarity > 0:\n",
    "        return 1\n",
    "    elif analysis.sentiment.polarity == 0:\n",
    "        return 0\n",
    "    else:\n",
    "        return -1"
   ]
  },
  {
   "cell_type": "code",
   "execution_count": 17,
   "metadata": {},
   "outputs": [
    {
     "data": {
      "text/html": [
       "<div>\n",
       "<style scoped>\n",
       "    .dataframe tbody tr th:only-of-type {\n",
       "        vertical-align: middle;\n",
       "    }\n",
       "\n",
       "    .dataframe tbody tr th {\n",
       "        vertical-align: top;\n",
       "    }\n",
       "\n",
       "    .dataframe thead th {\n",
       "        text-align: right;\n",
       "    }\n",
       "</style>\n",
       "<table border=\"1\" class=\"dataframe\">\n",
       "  <thead>\n",
       "    <tr style=\"text-align: right;\">\n",
       "      <th></th>\n",
       "      <th>Tweets</th>\n",
       "      <th>length</th>\n",
       "      <th>ID</th>\n",
       "      <th>Date</th>\n",
       "      <th>Source</th>\n",
       "      <th>Likes</th>\n",
       "      <th>RTs</th>\n",
       "      <th>SA</th>\n",
       "    </tr>\n",
       "  </thead>\n",
       "  <tbody>\n",
       "    <tr>\n",
       "      <th>0</th>\n",
       "      <td>Tampa! Such an amazing crowd. Thank you! 🙏🏾 an...</td>\n",
       "      <td>140</td>\n",
       "      <td>1087236108398878720</td>\n",
       "      <td>2019-01-21 06:31:02</td>\n",
       "      <td>Twitter for iPhone</td>\n",
       "      <td>7311</td>\n",
       "      <td>440</td>\n",
       "      <td>1</td>\n",
       "    </tr>\n",
       "    <tr>\n",
       "      <th>1</th>\n",
       "      <td>Raleigh! If you and your friend are still deba...</td>\n",
       "      <td>139</td>\n",
       "      <td>1086856503108272129</td>\n",
       "      <td>2019-01-20 05:22:37</td>\n",
       "      <td>Twitter for iPhone</td>\n",
       "      <td>3334</td>\n",
       "      <td>322</td>\n",
       "      <td>0</td>\n",
       "    </tr>\n",
       "    <tr>\n",
       "      <th>2</th>\n",
       "      <td>What a great start to the tour! Thank you Norf...</td>\n",
       "      <td>128</td>\n",
       "      <td>1086464896999571456</td>\n",
       "      <td>2019-01-19 03:26:31</td>\n",
       "      <td>Twitter for iPhone</td>\n",
       "      <td>1440</td>\n",
       "      <td>93</td>\n",
       "      <td>1</td>\n",
       "    </tr>\n",
       "    <tr>\n",
       "      <th>3</th>\n",
       "      <td>And so it begins... My new #LoudAndClearTour k...</td>\n",
       "      <td>140</td>\n",
       "      <td>1086280570253033472</td>\n",
       "      <td>2019-01-18 15:14:04</td>\n",
       "      <td>Twitter for iPhone</td>\n",
       "      <td>2812</td>\n",
       "      <td>334</td>\n",
       "      <td>1</td>\n",
       "    </tr>\n",
       "    <tr>\n",
       "      <th>4</th>\n",
       "      <td>RT @TheDailyShow: #10YearChallenge https://t.c...</td>\n",
       "      <td>58</td>\n",
       "      <td>1085644939831042048</td>\n",
       "      <td>2019-01-16 21:08:18</td>\n",
       "      <td>Twitter for iPhone</td>\n",
       "      <td>0</td>\n",
       "      <td>967</td>\n",
       "      <td>0</td>\n",
       "    </tr>\n",
       "    <tr>\n",
       "      <th>5</th>\n",
       "      <td>Last year, Shelley was our @omaze winner and j...</td>\n",
       "      <td>140</td>\n",
       "      <td>1085553520026234881</td>\n",
       "      <td>2019-01-16 15:05:02</td>\n",
       "      <td>Twitter Web Client</td>\n",
       "      <td>613</td>\n",
       "      <td>91</td>\n",
       "      <td>0</td>\n",
       "    </tr>\n",
       "    <tr>\n",
       "      <th>6</th>\n",
       "      <td>RT @TheDailyShow: The Daily Show &amp;amp; @DrunkH...</td>\n",
       "      <td>99</td>\n",
       "      <td>1085002294066851841</td>\n",
       "      <td>2019-01-15 02:34:39</td>\n",
       "      <td>Twitter for iPhone</td>\n",
       "      <td>0</td>\n",
       "      <td>1641</td>\n",
       "      <td>0</td>\n",
       "    </tr>\n",
       "    <tr>\n",
       "      <th>7</th>\n",
       "      <td>Toronto! Thank you for 4 incredible cold-out 🥶...</td>\n",
       "      <td>141</td>\n",
       "      <td>1084522505732268032</td>\n",
       "      <td>2019-01-13 18:48:09</td>\n",
       "      <td>Twitter for iPhone</td>\n",
       "      <td>3131</td>\n",
       "      <td>251</td>\n",
       "      <td>1</td>\n",
       "    </tr>\n",
       "    <tr>\n",
       "      <th>8</th>\n",
       "      <td>This is amazing @paulpogba 🙌🏽🙌🏽🙌🏽🙌🏽 https://t....</td>\n",
       "      <td>59</td>\n",
       "      <td>1083235414549385228</td>\n",
       "      <td>2019-01-10 05:33:43</td>\n",
       "      <td>Twitter for iPhone</td>\n",
       "      <td>13637</td>\n",
       "      <td>2537</td>\n",
       "      <td>1</td>\n",
       "    </tr>\n",
       "    <tr>\n",
       "      <th>9</th>\n",
       "      <td>RT @TheDailyShow: Oh man, once Trump gets his ...</td>\n",
       "      <td>134</td>\n",
       "      <td>1083171188967387136</td>\n",
       "      <td>2019-01-10 01:18:30</td>\n",
       "      <td>Twitter for iPhone</td>\n",
       "      <td>0</td>\n",
       "      <td>166815</td>\n",
       "      <td>1</td>\n",
       "    </tr>\n",
       "  </tbody>\n",
       "</table>\n",
       "</div>"
      ],
      "text/plain": [
       "                                              Tweets  length  \\\n",
       "0  Tampa! Such an amazing crowd. Thank you! 🙏🏾 an...     140   \n",
       "1  Raleigh! If you and your friend are still deba...     139   \n",
       "2  What a great start to the tour! Thank you Norf...     128   \n",
       "3  And so it begins... My new #LoudAndClearTour k...     140   \n",
       "4  RT @TheDailyShow: #10YearChallenge https://t.c...      58   \n",
       "5  Last year, Shelley was our @omaze winner and j...     140   \n",
       "6  RT @TheDailyShow: The Daily Show &amp; @DrunkH...      99   \n",
       "7  Toronto! Thank you for 4 incredible cold-out 🥶...     141   \n",
       "8  This is amazing @paulpogba 🙌🏽🙌🏽🙌🏽🙌🏽 https://t....      59   \n",
       "9  RT @TheDailyShow: Oh man, once Trump gets his ...     134   \n",
       "\n",
       "                    ID                Date              Source  Likes     RTs  \\\n",
       "0  1087236108398878720 2019-01-21 06:31:02  Twitter for iPhone   7311     440   \n",
       "1  1086856503108272129 2019-01-20 05:22:37  Twitter for iPhone   3334     322   \n",
       "2  1086464896999571456 2019-01-19 03:26:31  Twitter for iPhone   1440      93   \n",
       "3  1086280570253033472 2019-01-18 15:14:04  Twitter for iPhone   2812     334   \n",
       "4  1085644939831042048 2019-01-16 21:08:18  Twitter for iPhone      0     967   \n",
       "5  1085553520026234881 2019-01-16 15:05:02  Twitter Web Client    613      91   \n",
       "6  1085002294066851841 2019-01-15 02:34:39  Twitter for iPhone      0    1641   \n",
       "7  1084522505732268032 2019-01-13 18:48:09  Twitter for iPhone   3131     251   \n",
       "8  1083235414549385228 2019-01-10 05:33:43  Twitter for iPhone  13637    2537   \n",
       "9  1083171188967387136 2019-01-10 01:18:30  Twitter for iPhone      0  166815   \n",
       "\n",
       "   SA  \n",
       "0   1  \n",
       "1   0  \n",
       "2   1  \n",
       "3   1  \n",
       "4   0  \n",
       "5   0  \n",
       "6   0  \n",
       "7   1  \n",
       "8   1  \n",
       "9   1  "
      ]
     },
     "execution_count": 17,
     "metadata": {},
     "output_type": "execute_result"
    }
   ],
   "source": [
    "# We create a column with the result of the analysis:\n",
    "data[\"SA\"] = np.array([analize_sentiment(tweet) for tweet in data[\"Tweets\"]])\n",
    "\n",
    "# We display the updated dataframe with the new column:\n",
    "data.head(10)"
   ]
  },
  {
   "cell_type": "code",
   "execution_count": 18,
   "metadata": {},
   "outputs": [],
   "source": [
    "# We construct lists with classified tweets:\n",
    "\n",
    "pos_tweets = [tweet for index, tweet in enumerate(data[\"Tweets\"]) if data[\"SA\"][index] > 0]\n",
    "neu_tweets = [tweet for index, tweet in enumerate(data[\"Tweets\"]) if data[\"SA\"][index] == 0]\n",
    "neg_tweets = [tweet for index, tweet in enumerate(data[\"Tweets\"]) if data[\"SA\"][index] < 0]"
   ]
  },
  {
   "cell_type": "code",
   "execution_count": 19,
   "metadata": {},
   "outputs": [
    {
     "name": "stdout",
     "output_type": "stream",
     "text": [
      "Percentage of positive tweets: 43.71859296482412%\n",
      "Percentage of neutral tweets: 42.71356783919598%\n",
      "Percentage de negative tweets: 13.5678391959799%\n"
     ]
    }
   ],
   "source": [
    "# We print percentages:\n",
    "\n",
    "print(\"Percentage of positive tweets: {}%\".format(len(pos_tweets)*100/len(data['Tweets'])))\n",
    "print(\"Percentage of neutral tweets: {}%\".format(len(neu_tweets)*100/len(data['Tweets'])))\n",
    "print(\"Percentage de negative tweets: {}%\".format(len(neg_tweets)*100/len(data['Tweets'])))"
   ]
  },
  {
   "cell_type": "code",
   "execution_count": 20,
   "metadata": {},
   "outputs": [
    {
     "data": {
      "text/plain": [
       "<matplotlib.axes._subplots.AxesSubplot at 0x1a1d982a20>"
      ]
     },
     "execution_count": 20,
     "metadata": {},
     "output_type": "execute_result"
    },
    {
     "data": {
      "image/png": "[encoded data removed]",
      "text/plain": [
       "<Figure size 432x432 with 1 Axes>"
      ]
     },
     "metadata": {},
     "output_type": "display_data"
    }
   ],
   "source": [
    "pos_percent = len(pos_tweets)/len(data['Tweets'])\n",
    "neu_percent = len(neu_tweets)/len(data['Tweets'])\n",
    "neg_percent = len(neg_tweets)/len(data['Tweets'])\n",
    "sa_percent = np.array([pos_percent, neu_percent, neg_percent])\n",
    "\n",
    "sa_category = ['positve', 'neutral', 'negative']\n",
    "\n",
    "sa_pie_chart = pd.Series(data=sa_percent, index=sa_category, name=\"Tweets\")\n",
    "sa_pie_chart.plot.pie(fontsize=13, autopct=\"%.2f\", figsize=(6,6))"
   ]
  },
  {
   "cell_type": "code",
   "execution_count": null,
   "metadata": {},
   "outputs": [],
   "source": []
  }
 ],
 "metadata": {
  "kernelspec": {
   "display_name": "Python 3",
   "language": "python",
   "name": "python3"
  },
  "language_info": {
   "codemirror_mode": {
    "name": "ipython",
    "version": 3
   },
   "file_extension": ".py",
   "mimetype": "text/x-python",
   "name": "python",
   "nbconvert_exporter": "python",
   "pygments_lexer": "ipython3",
   "version": "3.6.8"
  }
 },
 "nbformat": 4,
 "nbformat_minor": 2
}
